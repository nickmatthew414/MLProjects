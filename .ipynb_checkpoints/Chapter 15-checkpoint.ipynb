{
 "cells": [
  {
   "cell_type": "markdown",
   "metadata": {},
   "source": [
    "Problem 9"
   ]
  },
  {
   "cell_type": "code",
   "execution_count": 6,
   "metadata": {},
   "outputs": [],
   "source": [
    "import tensorflow as tf"
   ]
  },
  {
   "cell_type": "code",
   "execution_count": 7,
   "metadata": {},
   "outputs": [
    {
     "name": "stdout",
     "output_type": "stream",
     "text": [
      "Downloading data from http://download.tensorflow.org/data/quickdraw_tutorial_dataset_v1.tar.gz\n",
      "1065304064/1065301781 [==============================] - 224s 0us/step\n"
     ]
    }
   ],
   "source": [
    "DOWNLOAD_ROOT = \"http://download.tensorflow.org/data/\"\n",
    "FILENAME = \"quickdraw_tutorial_dataset_v1.tar.gz\"\n",
    "filepath = tf.keras.utils.get_file(FILENAME,\n",
    "                                DOWNLOAD_ROOT + FILENAME,\n",
    "                                cache_subdir=\"datasets/quickdraw\",\n",
    "                                extract=True)"
   ]
  },
  {
   "cell_type": "code",
   "execution_count": 9,
   "metadata": {},
   "outputs": [],
   "source": [
    "from pathlib import Path"
   ]
  },
  {
   "cell_type": "code",
   "execution_count": 10,
   "metadata": {},
   "outputs": [],
   "source": [
    "quickdraw_dir = Path(filepath).parent\n",
    "train_files = sorted([str(path) for path in quickdraw_dir.glob(\"training.tfrecord-*\")])\n",
    "eval_files = sorted([str(path) for path in quickdraw_dir.glob(\"eval.tfrecord-*\")])"
   ]
  },
  {
   "cell_type": "code",
   "execution_count": 12,
   "metadata": {},
   "outputs": [
    {
     "data": {
      "text/plain": [
       "['/Users/nickmatthew/.keras/datasets/quickdraw/training.tfrecord-00000-of-00010',\n",
       " '/Users/nickmatthew/.keras/datasets/quickdraw/training.tfrecord-00001-of-00010',\n",
       " '/Users/nickmatthew/.keras/datasets/quickdraw/training.tfrecord-00002-of-00010',\n",
       " '/Users/nickmatthew/.keras/datasets/quickdraw/training.tfrecord-00003-of-00010',\n",
       " '/Users/nickmatthew/.keras/datasets/quickdraw/training.tfrecord-00004-of-00010',\n",
       " '/Users/nickmatthew/.keras/datasets/quickdraw/training.tfrecord-00005-of-00010',\n",
       " '/Users/nickmatthew/.keras/datasets/quickdraw/training.tfrecord-00006-of-00010',\n",
       " '/Users/nickmatthew/.keras/datasets/quickdraw/training.tfrecord-00007-of-00010',\n",
       " '/Users/nickmatthew/.keras/datasets/quickdraw/training.tfrecord-00008-of-00010',\n",
       " '/Users/nickmatthew/.keras/datasets/quickdraw/training.tfrecord-00009-of-00010']"
      ]
     },
     "execution_count": 12,
     "metadata": {},
     "output_type": "execute_result"
    }
   ],
   "source": [
    "train_files"
   ]
  },
  {
   "cell_type": "code",
   "execution_count": 13,
   "metadata": {},
   "outputs": [
    {
     "data": {
      "text/plain": [
       "['/Users/nickmatthew/.keras/datasets/quickdraw/eval.tfrecord-00000-of-00010',\n",
       " '/Users/nickmatthew/.keras/datasets/quickdraw/eval.tfrecord-00001-of-00010',\n",
       " '/Users/nickmatthew/.keras/datasets/quickdraw/eval.tfrecord-00002-of-00010',\n",
       " '/Users/nickmatthew/.keras/datasets/quickdraw/eval.tfrecord-00003-of-00010',\n",
       " '/Users/nickmatthew/.keras/datasets/quickdraw/eval.tfrecord-00004-of-00010',\n",
       " '/Users/nickmatthew/.keras/datasets/quickdraw/eval.tfrecord-00005-of-00010',\n",
       " '/Users/nickmatthew/.keras/datasets/quickdraw/eval.tfrecord-00006-of-00010',\n",
       " '/Users/nickmatthew/.keras/datasets/quickdraw/eval.tfrecord-00007-of-00010',\n",
       " '/Users/nickmatthew/.keras/datasets/quickdraw/eval.tfrecord-00008-of-00010',\n",
       " '/Users/nickmatthew/.keras/datasets/quickdraw/eval.tfrecord-00009-of-00010']"
      ]
     },
     "execution_count": 13,
     "metadata": {},
     "output_type": "execute_result"
    }
   ],
   "source": [
    "eval_files"
   ]
  },
  {
   "cell_type": "code",
   "execution_count": null,
   "metadata": {},
   "outputs": [],
   "source": [
    "with open(quickdraw_dir / \"eval.tfrecord.classes\") as test_classes_file:\n",
    "    test_classes = test_classes_file.readlines()\n",
    "    \n",
    "with open(quickdraw_dir / \"training.tfrecord.classes\") as train_classes_file:\n",
    "    train_classes = train_classes_file.readlines()"
   ]
  }
 ],
 "metadata": {
  "kernelspec": {
   "display_name": "Python 3",
   "language": "python",
   "name": "python3"
  },
  "language_info": {
   "codemirror_mode": {
    "name": "ipython",
    "version": 3
   },
   "file_extension": ".py",
   "mimetype": "text/x-python",
   "name": "python",
   "nbconvert_exporter": "python",
   "pygments_lexer": "ipython3",
   "version": "3.7.4"
  }
 },
 "nbformat": 4,
 "nbformat_minor": 2
}
