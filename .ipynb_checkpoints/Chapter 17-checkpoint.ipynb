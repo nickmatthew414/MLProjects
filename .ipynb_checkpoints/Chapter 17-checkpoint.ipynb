{
 "cells": [
  {
   "cell_type": "code",
   "execution_count": 4,
   "metadata": {},
   "outputs": [],
   "source": [
    "import tensorflow as tf\n",
    "from tensorflow import keras\n",
    "import numpy as np\n",
    "import matplotlib.pyplot as plt"
   ]
  },
  {
   "cell_type": "code",
   "execution_count": 5,
   "metadata": {},
   "outputs": [],
   "source": [
    "(X_train_full, y_train_full), (X_test, y_test) = keras.datasets.fashion_mnist.load_data()\n",
    "X_train_full = X_train_full.astype(np.float32) / 255\n",
    "X_test = X_test.astype(np.float32) / 255\n",
    "X_train, X_valid = X_train_full[:-5000], X_train_full[-5000:]\n",
    "y_train, y_valid = y_train_full[:-5000], y_train_full[-5000:]"
   ]
  },
  {
   "cell_type": "code",
   "execution_count": 6,
   "metadata": {},
   "outputs": [],
   "source": [
    "def rounded_accuracy(y_true, y_pred):\n",
    "    return keras.metrics.binary_accuracy(tf.round(y_true), tf.round(y_pred))"
   ]
  },
  {
   "cell_type": "code",
   "execution_count": 4,
   "metadata": {},
   "outputs": [
    {
     "data": {
      "text/plain": [
       "(55000, 28, 28)"
      ]
     },
     "execution_count": 4,
     "metadata": {},
     "output_type": "execute_result"
    }
   ],
   "source": [
    "X_train.shape"
   ]
  },
  {
   "cell_type": "code",
   "execution_count": 5,
   "metadata": {},
   "outputs": [
    {
     "name": "stdout",
     "output_type": "stream",
     "text": [
      "Epoch 1/10\n",
      "1719/1719 [==============================] - 7s 4ms/step - loss: 0.3750 - rounded_accuracy: 0.8493 - val_loss: 0.3276 - val_rounded_accuracy: 0.8929\n",
      "Epoch 2/10\n",
      "1719/1719 [==============================] - 5s 3ms/step - loss: 0.3179 - rounded_accuracy: 0.9037 - val_loss: 0.3119 - val_rounded_accuracy: 0.9123\n",
      "Epoch 3/10\n",
      "1719/1719 [==============================] - 5s 3ms/step - loss: 0.3097 - rounded_accuracy: 0.9109 - val_loss: 0.3059 - val_rounded_accuracy: 0.9168\n",
      "Epoch 4/10\n",
      "1719/1719 [==============================] - 5s 3ms/step - loss: 0.3050 - rounded_accuracy: 0.9151 - val_loss: 0.3019 - val_rounded_accuracy: 0.9201\n",
      "Epoch 5/10\n",
      "1719/1719 [==============================] - 5s 3ms/step - loss: 0.3016 - rounded_accuracy: 0.9179 - val_loss: 0.3016 - val_rounded_accuracy: 0.9223\n",
      "Epoch 6/10\n",
      "1719/1719 [==============================] - 5s 3ms/step - loss: 0.2989 - rounded_accuracy: 0.9205 - val_loss: 0.2973 - val_rounded_accuracy: 0.9251\n",
      "Epoch 7/10\n",
      "1719/1719 [==============================] - 6s 3ms/step - loss: 0.2967 - rounded_accuracy: 0.9224 - val_loss: 0.2944 - val_rounded_accuracy: 0.9269\n",
      "Epoch 8/10\n",
      "1719/1719 [==============================] - 5s 3ms/step - loss: 0.2948 - rounded_accuracy: 0.9243 - val_loss: 0.2934 - val_rounded_accuracy: 0.9263\n",
      "Epoch 9/10\n",
      "1719/1719 [==============================] - 5s 3ms/step - loss: 0.2933 - rounded_accuracy: 0.9257 - val_loss: 0.2921 - val_rounded_accuracy: 0.9281\n",
      "Epoch 10/10\n",
      "1719/1719 [==============================] - 5s 3ms/step - loss: 0.2921 - rounded_accuracy: 0.9267 - val_loss: 0.2901 - val_rounded_accuracy: 0.9307\n"
     ]
    }
   ],
   "source": [
    "encoder = keras.models.Sequential([\n",
    "    keras.layers.Flatten(input_shape=[28, 28]),\n",
    "    keras.layers.GaussianNoise(.2),\n",
    "    keras.layers.Dense(units=120, activation=tf.nn.relu),\n",
    "    keras.layers.Dense(units=30, activation=tf.nn.relu),\n",
    "    \n",
    "])\n",
    "\n",
    "decoder = keras.models.Sequential([\n",
    "    keras.layers.Dense(units=120, activation=tf.nn.relu, input_shape=[30]),\n",
    "    keras.layers.Dense(units=28*28, activation=tf.nn.sigmoid),\n",
    "    keras.layers.Reshape([28,28])\n",
    "])\n",
    "\n",
    "model = keras.models.Sequential([encoder, decoder])\n",
    "\n",
    "model.compile(loss='binary_crossentropy', optimizer=keras.optimizers.SGD(lr=1.0), metrics=[rounded_accuracy])\n",
    "history = model.fit(X_train, X_train, validation_data=(X_valid, X_valid), epochs=10)"
   ]
  },
  {
   "cell_type": "code",
   "execution_count": 11,
   "metadata": {},
   "outputs": [
    {
     "ename": "NameError",
     "evalue": "name 'model' is not defined",
     "output_type": "error",
     "traceback": [
      "\u001b[0;31m---------------------------------------------------------------------------\u001b[0m",
      "\u001b[0;31mNameError\u001b[0m                                 Traceback (most recent call last)",
      "\u001b[0;32m<ipython-input-11-44f70fac29b7>\u001b[0m in \u001b[0;36m<module>\u001b[0;34m\u001b[0m\n\u001b[1;32m     15\u001b[0m         \u001b[0mplot_image\u001b[0m\u001b[0;34m(\u001b[0m\u001b[0mreconstructions\u001b[0m\u001b[0;34m[\u001b[0m\u001b[0mi\u001b[0m\u001b[0;34m]\u001b[0m\u001b[0;34m)\u001b[0m\u001b[0;34m\u001b[0m\u001b[0;34m\u001b[0m\u001b[0m\n\u001b[1;32m     16\u001b[0m \u001b[0;34m\u001b[0m\u001b[0m\n\u001b[0;32m---> 17\u001b[0;31m \u001b[0mshow_reconstructions\u001b[0m\u001b[0;34m(\u001b[0m\u001b[0mmodel\u001b[0m\u001b[0;34m)\u001b[0m\u001b[0;34m\u001b[0m\u001b[0;34m\u001b[0m\u001b[0m\n\u001b[0m",
      "\u001b[0;31mNameError\u001b[0m: name 'model' is not defined"
     ]
    }
   ],
   "source": [
    "%matplotlib inline\n",
    "\n",
    "def plot_image(image):\n",
    "    plt.imshow(image, cmap='binary')\n",
    "    plt.axis('off')\n",
    "\n",
    "def show_reconstructions(model, images=X_valid, n_images=5):\n",
    "    reconstructions = model.predict(images[:n_images])\n",
    "    fig = plt.figure(figsize=(1.5*n_images, 3))\n",
    "    for i in range(n_images):\n",
    "        plt.subplot(2, n_images, i+1)\n",
    "        plot_image(X_valid[i])\n",
    "    for i in range(n_images):\n",
    "        plt.subplot(2, n_images, i+1+n_images)\n",
    "        plot_image(reconstructions[i])\n",
    "        \n",
    "show_reconstructions(model)"
   ]
  },
  {
   "cell_type": "code",
   "execution_count": 36,
   "metadata": {},
   "outputs": [
    {
     "name": "stdout",
     "output_type": "stream",
     "text": [
      "Epoch 1/20\n",
      "16/16 [==============================] - 0s 29ms/step - loss: 2.2589 - accuracy: 0.1560 - val_loss: 2.1840 - val_accuracy: 0.3850\n",
      "Epoch 2/20\n",
      "16/16 [==============================] - 0s 21ms/step - loss: 2.0977 - accuracy: 0.4440 - val_loss: 1.9531 - val_accuracy: 0.5318\n",
      "Epoch 3/20\n",
      "16/16 [==============================] - 0s 21ms/step - loss: 1.7889 - accuracy: 0.4920 - val_loss: 1.5850 - val_accuracy: 0.5884\n",
      "Epoch 4/20\n",
      "16/16 [==============================] - 0s 21ms/step - loss: 1.3989 - accuracy: 0.6080 - val_loss: 1.2810 - val_accuracy: 0.5914\n",
      "Epoch 5/20\n",
      "16/16 [==============================] - 0s 20ms/step - loss: 1.1440 - accuracy: 0.6200 - val_loss: 1.0666 - val_accuracy: 0.6406\n",
      "Epoch 6/20\n",
      "16/16 [==============================] - 0s 20ms/step - loss: 0.9614 - accuracy: 0.6860 - val_loss: 0.9667 - val_accuracy: 0.6642\n",
      "Epoch 7/20\n",
      "16/16 [==============================] - 0s 20ms/step - loss: 0.8852 - accuracy: 0.7160 - val_loss: 0.9283 - val_accuracy: 0.6940\n",
      "Epoch 8/20\n",
      "16/16 [==============================] - 0s 20ms/step - loss: 0.7806 - accuracy: 0.7540 - val_loss: 0.8804 - val_accuracy: 0.6972\n",
      "Epoch 9/20\n",
      "16/16 [==============================] - 0s 20ms/step - loss: 0.7388 - accuracy: 0.7580 - val_loss: 0.8493 - val_accuracy: 0.7072\n",
      "Epoch 10/20\n",
      "16/16 [==============================] - 0s 21ms/step - loss: 0.6745 - accuracy: 0.7920 - val_loss: 0.8353 - val_accuracy: 0.7012\n",
      "Epoch 11/20\n",
      "16/16 [==============================] - 0s 20ms/step - loss: 0.6455 - accuracy: 0.7820 - val_loss: 0.8469 - val_accuracy: 0.7044\n",
      "Epoch 12/20\n",
      "16/16 [==============================] - 0s 20ms/step - loss: 0.6391 - accuracy: 0.7960 - val_loss: 0.8398 - val_accuracy: 0.6874\n",
      "Epoch 13/20\n",
      "16/16 [==============================] - 0s 20ms/step - loss: 0.5893 - accuracy: 0.8020 - val_loss: 0.7820 - val_accuracy: 0.7320\n",
      "Epoch 14/20\n",
      "16/16 [==============================] - 0s 20ms/step - loss: 0.5655 - accuracy: 0.8240 - val_loss: 0.8229 - val_accuracy: 0.7254\n",
      "Epoch 15/20\n",
      "16/16 [==============================] - 0s 20ms/step - loss: 0.5586 - accuracy: 0.8060 - val_loss: 0.7736 - val_accuracy: 0.7264\n",
      "Epoch 16/20\n",
      "16/16 [==============================] - 0s 20ms/step - loss: 0.5409 - accuracy: 0.8080 - val_loss: 0.7654 - val_accuracy: 0.7440\n",
      "Epoch 17/20\n",
      "16/16 [==============================] - 0s 19ms/step - loss: 0.5040 - accuracy: 0.8280 - val_loss: 0.7233 - val_accuracy: 0.7484\n",
      "Epoch 18/20\n",
      "16/16 [==============================] - 0s 20ms/step - loss: 0.4734 - accuracy: 0.8580 - val_loss: 0.7330 - val_accuracy: 0.7402\n",
      "Epoch 19/20\n",
      "16/16 [==============================] - 0s 19ms/step - loss: 0.4772 - accuracy: 0.8360 - val_loss: 0.7636 - val_accuracy: 0.7338\n",
      "Epoch 20/20\n",
      "16/16 [==============================] - 0s 20ms/step - loss: 0.4600 - accuracy: 0.8640 - val_loss: 0.6960 - val_accuracy: 0.7562\n"
     ]
    }
   ],
   "source": [
    "X_small_train = X_train[:500]\n",
    "y_small_train = y_train[:500]\n",
    "\n",
    "model_normal = tf.keras.models.Sequential([\n",
    "    tf.keras.layers.Reshape([28,28,1], input_shape=(28,28)),\n",
    "    tf.keras.layers.Conv2D(filters=32, kernel_size=2, strides=2, padding='same', activation=tf.nn.relu),\n",
    "    tf.keras.layers.MaxPool2D(2),\n",
    "    tf.keras.layers.Conv2D(filters=64, kernel_size=2, strides=2, padding='same', activation=tf.nn.relu),\n",
    "    tf.keras.layers.MaxPool2D(2),\n",
    "    tf.keras.layers.Flatten(),\n",
    "    tf.keras.layers.Dense(units=100, activation=tf.nn.relu),\n",
    "    tf.keras.layers.Dense(units=10, activation=tf.nn.softmax)\n",
    "])\n",
    "\n",
    "model_normal.compile(loss='sparse_categorical_crossentropy', optimizer=keras.optimizers.Adam(), metrics=['accuracy'])\n",
    "history = model_normal.fit(X_small_train, y_small_train, epochs=20, validation_data=(X_valid, y_valid))"
   ]
  },
  {
   "cell_type": "code",
   "execution_count": 38,
   "metadata": {},
   "outputs": [
    {
     "data": {
      "image/png": "[encoded data removed]",
      "text/plain": [
       "<Figure size 432x288 with 1 Axes>"
      ]
     },
     "metadata": {
      "needs_background": "light"
     },
     "output_type": "display_data"
    }
   ],
   "source": [
    "import pandas as pd\n",
    "pd.DataFrame(history.history).plot()\n",
    "plt.show()"
   ]
  },
  {
   "cell_type": "markdown",
   "metadata": {},
   "source": [
    "# Conv Autoencoder"
   ]
  },
  {
   "cell_type": "code",
   "execution_count": 5,
   "metadata": {},
   "outputs": [
    {
     "name": "stdout",
     "output_type": "stream",
     "text": [
      "Epoch 1/10\n",
      "1719/1719 [==============================] - 38s 22ms/step - loss: 0.3010 - rounded_accuracy: 0.9195 - val_loss: 0.2778 - val_rounded_accuracy: 0.9409\n",
      "Epoch 2/10\n",
      "1719/1719 [==============================] - 39s 23ms/step - loss: 0.2731 - rounded_accuracy: 0.9437 - val_loss: 0.2719 - val_rounded_accuracy: 0.9466\n",
      "Epoch 3/10\n",
      "1719/1719 [==============================] - 37s 22ms/step - loss: 0.2687 - rounded_accuracy: 0.9480 - val_loss: 0.2686 - val_rounded_accuracy: 0.9496\n",
      "Epoch 4/10\n",
      "1719/1719 [==============================] - 37s 22ms/step - loss: 0.2662 - rounded_accuracy: 0.9506 - val_loss: 0.2665 - val_rounded_accuracy: 0.9520\n",
      "Epoch 5/10\n",
      "1719/1719 [==============================] - 37s 21ms/step - loss: 0.2645 - rounded_accuracy: 0.9524 - val_loss: 0.2650 - val_rounded_accuracy: 0.9536\n",
      "Epoch 6/10\n",
      "1719/1719 [==============================] - 36s 21ms/step - loss: 0.2633 - rounded_accuracy: 0.9539 - val_loss: 0.2642 - val_rounded_accuracy: 0.9543\n",
      "Epoch 7/10\n",
      "1719/1719 [==============================] - 36s 21ms/step - loss: 0.2623 - rounded_accuracy: 0.9551 - val_loss: 0.2633 - val_rounded_accuracy: 0.9552\n",
      "Epoch 8/10\n",
      "1719/1719 [==============================] - 37s 21ms/step - loss: 0.2616 - rounded_accuracy: 0.9561 - val_loss: 0.2624 - val_rounded_accuracy: 0.9566\n",
      "Epoch 9/10\n",
      "1719/1719 [==============================] - 36s 21ms/step - loss: 0.2609 - rounded_accuracy: 0.9569 - val_loss: 0.2621 - val_rounded_accuracy: 0.9569\n",
      "Epoch 10/10\n",
      "1719/1719 [==============================] - 37s 21ms/step - loss: 0.2604 - rounded_accuracy: 0.9576 - val_loss: 0.2617 - val_rounded_accuracy: 0.9579\n"
     ]
    }
   ],
   "source": [
    "\n",
    "tf.random.set_seed(42)\n",
    "np.random.seed(42)\n",
    "\n",
    "# conv_encoder = keras.models.Sequential([\n",
    "#     keras.layers.Reshape([28, 28, 1], input_shape=[28, 28]),\n",
    "#     keras.layers.Conv2D(16, kernel_size=3, padding=\"SAME\", activation=\"selu\"),\n",
    "#     keras.layers.MaxPool2D(pool_size=2),\n",
    "#     keras.layers.Conv2D(32, kernel_size=3, padding=\"SAME\", activation=\"selu\"),\n",
    "#     keras.layers.MaxPool2D(pool_size=2),\n",
    "#     keras.layers.Conv2D(64, kernel_size=3, padding=\"SAME\", activation=\"selu\"),\n",
    "#     keras.layers.MaxPool2D(pool_size=2)\n",
    "# ])\n",
    "# conv_decoder = keras.models.Sequential([\n",
    "#     keras.layers.Conv2DTranspose(32, kernel_size=3, strides=2, padding=\"VALID\", activation=\"selu\",\n",
    "#                                  input_shape=[3, 3, 64]),\n",
    "#     keras.layers.Conv2DTranspose(16, kernel_size=3, strides=2, padding=\"SAME\", activation=\"selu\"),\n",
    "#     keras.layers.Conv2DTranspose(1, kernel_size=3, strides=2, padding=\"SAME\", activation=\"sigmoid\"),\n",
    "#     keras.layers.Reshape([28, 28])\n",
    "# ])\n",
    "# conv_ae = keras.models.Sequential([conv_encoder, conv_decoder])\n",
    "\n",
    "# conv_ae.compile(loss=\"binary_crossentropy\", optimizer=keras.optimizers.SGD(lr=1.0),\n",
    "#                 metrics=[rounded_accuracy])\n",
    "# history = conv_ae.fit(X_train, X_train, epochs=5,\n",
    "#                       validation_data=(X_valid, X_valid))\n",
    "\n",
    "conv_encoder = keras.models.Sequential([\n",
    "    keras.layers.Reshape((28, 28,1), input_shape=(28,28)),\n",
    "    keras.layers.Conv2D(filters=16, kernel_size=3, padding='same', activation=tf.nn.relu),\n",
    "    keras.layers.MaxPool2D(2),\n",
    "    keras.layers.Conv2D(32, 3, padding='same', activation=tf.nn.relu),\n",
    "    keras.layers.MaxPool2D(2),\n",
    "    keras.layers.Conv2D(64, 3, padding='same', activation=tf.nn.relu),\n",
    "    keras.layers.MaxPool2D(2)\n",
    "    \n",
    "])\n",
    "\n",
    "conv_decoder = keras.models.Sequential([\n",
    "    keras.layers.Conv2DTranspose(filters=32, strides=2, kernel_size=3, padding='valid', \n",
    "                                 activation=tf.nn.relu, input_shape=(3,3,64)),\n",
    "    keras.layers.Conv2DTranspose(filters=16, strides=2, kernel_size=3, padding='same', activation=tf.nn.relu),\n",
    "    keras.layers.Conv2DTranspose(filters=1, strides=2, kernel_size=3, padding='same', activation=tf.nn.sigmoid),\n",
    "    keras.layers.Reshape((28,28))\n",
    "])\n",
    "\n",
    "conv_autoencoder = keras.models.Sequential([conv_encoder, conv_decoder])\n",
    "conv_autoencoder.compile(loss='binary_crossentropy', optimizer=keras.optimizers.Adam(), metrics=[rounded_accuracy])\n",
    "history = conv_autoencoder.fit(X_train, X_train, epochs=10, validation_data=(X_valid, X_valid))"
   ]
  },
  {
   "cell_type": "code",
   "execution_count": 7,
   "metadata": {},
   "outputs": [
    {
     "data": {
      "image/png": "[encoded data removed]",
      "text/plain": [
       "<Figure size 432x288 with 1 Axes>"
      ]
     },
     "metadata": {
      "needs_background": "light"
     },
     "output_type": "display_data"
    }
   ],
   "source": [
    "import pandas as pd\n",
    "pd.DataFrame(history.history).plot()\n",
    "plt.show()"
   ]
  },
  {
   "cell_type": "code",
   "execution_count": 9,
   "metadata": {},
   "outputs": [
    {
     "name": "stdout",
     "output_type": "stream",
     "text": [
      "Epoch 1/10\n",
      "1719/1719 [==============================] - 8s 5ms/step - loss: 0.9867 - accuracy: 0.6839 - val_loss: 0.6340 - val_accuracy: 0.7752\n",
      "Epoch 2/10\n",
      "1719/1719 [==============================] - 8s 4ms/step - loss: 0.5901 - accuracy: 0.7863 - val_loss: 0.5377 - val_accuracy: 0.8044\n",
      "Epoch 3/10\n",
      "1719/1719 [==============================] - 9s 5ms/step - loss: 0.5242 - accuracy: 0.8092 - val_loss: 0.4919 - val_accuracy: 0.8234\n",
      "Epoch 4/10\n",
      "1719/1719 [==============================] - 9s 5ms/step - loss: 0.4880 - accuracy: 0.8246 - val_loss: 0.4674 - val_accuracy: 0.8332\n",
      "Epoch 5/10\n",
      "1719/1719 [==============================] - 8s 5ms/step - loss: 0.4633 - accuracy: 0.8343 - val_loss: 0.4480 - val_accuracy: 0.8386\n",
      "Epoch 6/10\n",
      "1719/1719 [==============================] - 8s 5ms/step - loss: 0.4455 - accuracy: 0.8411 - val_loss: 0.4366 - val_accuracy: 0.8456\n",
      "Epoch 7/10\n",
      "1719/1719 [==============================] - 8s 5ms/step - loss: 0.4289 - accuracy: 0.8470 - val_loss: 0.4273 - val_accuracy: 0.8500\n",
      "Epoch 8/10\n",
      "1719/1719 [==============================] - 8s 5ms/step - loss: 0.4173 - accuracy: 0.8508 - val_loss: 0.4147 - val_accuracy: 0.8542\n",
      "Epoch 9/10\n",
      "1719/1719 [==============================] - 8s 5ms/step - loss: 0.4073 - accuracy: 0.8549 - val_loss: 0.4042 - val_accuracy: 0.8552\n",
      "Epoch 10/10\n",
      "1719/1719 [==============================] - 8s 5ms/step - loss: 0.3969 - accuracy: 0.8585 - val_loss: 0.3975 - val_accuracy: 0.8562\n"
     ]
    }
   ],
   "source": [
    "conv_encoder_clone = keras.models.clone_model(conv_encoder)\n",
    "\n",
    "hybrid_model = keras.models.Sequential([\n",
    "    conv_encoder_clone,\n",
    "    keras.layers.Flatten(),\n",
    "    keras.layers.Dense(units=20, activation=tf.nn.relu),\n",
    "    keras.layers.Dense(units=10, activation='softmax')\n",
    "])\n",
    "\n",
    "conv_encoder_clone.trainable = False\n",
    "hybrid_model.compile(loss='sparse_categorical_crossentropy', optimizer='Adam', metrics=['accuracy'])\n",
    "history = hybrid_model.fit(X_train, y_train, epochs=10, validation_data=(X_valid, y_valid))"
   ]
  },
  {
   "cell_type": "code",
   "execution_count": 10,
   "metadata": {},
   "outputs": [
    {
     "name": "stdout",
     "output_type": "stream",
     "text": [
      "Epoch 1/10\n",
      "1719/1719 [==============================] - 2s 1ms/step - loss: 0.5910 - accuracy: 0.7992 - val_loss: 0.4787 - val_accuracy: 0.8308\n",
      "Epoch 2/10\n",
      "1719/1719 [==============================] - 2s 1ms/step - loss: 0.4374 - accuracy: 0.8463 - val_loss: 0.4273 - val_accuracy: 0.8526\n",
      "Epoch 3/10\n",
      "1719/1719 [==============================] - 2s 1ms/step - loss: 0.4060 - accuracy: 0.8582 - val_loss: 0.4021 - val_accuracy: 0.8572\n",
      "Epoch 4/10\n",
      "1719/1719 [==============================] - 2s 1ms/step - loss: 0.3876 - accuracy: 0.8629 - val_loss: 0.3785 - val_accuracy: 0.8630\n",
      "Epoch 5/10\n",
      "1719/1719 [==============================] - 2s 1ms/step - loss: 0.3740 - accuracy: 0.8668 - val_loss: 0.3764 - val_accuracy: 0.8636\n",
      "Epoch 6/10\n",
      "1719/1719 [==============================] - 2s 1ms/step - loss: 0.3649 - accuracy: 0.8701 - val_loss: 0.3761 - val_accuracy: 0.8676\n",
      "Epoch 7/10\n",
      "1719/1719 [==============================] - 2s 1ms/step - loss: 0.3534 - accuracy: 0.8729 - val_loss: 0.3761 - val_accuracy: 0.8662\n",
      "Epoch 8/10\n",
      "1719/1719 [==============================] - 2s 1ms/step - loss: 0.3495 - accuracy: 0.8747 - val_loss: 0.3652 - val_accuracy: 0.8698\n",
      "Epoch 9/10\n",
      "1719/1719 [==============================] - 3s 2ms/step - loss: 0.3420 - accuracy: 0.8776 - val_loss: 0.3958 - val_accuracy: 0.8564\n",
      "Epoch 10/10\n",
      "1719/1719 [==============================] - 2s 1ms/step - loss: 0.3331 - accuracy: 0.8793 - val_loss: 0.3805 - val_accuracy: 0.8646\n"
     ]
    }
   ],
   "source": [
    "base_model = keras.models.Sequential([\n",
    "    keras.layers.Flatten(input_shape=(28,28)),\n",
    "    keras.layers.Dense(units=20, activation=tf.nn.relu),\n",
    "    keras.layers.Dense(units=10, activation='softmax')\n",
    "])\n",
    "\n",
    "base_model.compile(loss='sparse_categorical_crossentropy', optimizer='Adam', metrics=['accuracy'])\n",
    "history3 = base_model.fit(X_train, y_train, epochs=10, validation_data=(X_valid, y_valid))"
   ]
  },
  {
   "cell_type": "code",
   "execution_count": 12,
   "metadata": {},
   "outputs": [
    {
     "name": "stdout",
     "output_type": "stream",
     "text": [
      "Epoch 1/20\n",
      "1719/1719 [==============================] - 27s 16ms/step - loss: 0.3931 - accuracy: 0.8594 - val_loss: 0.3316 - val_accuracy: 0.8790\n",
      "Epoch 2/20\n",
      "1719/1719 [==============================] - 30s 17ms/step - loss: 0.3131 - accuracy: 0.8877 - val_loss: 0.3389 - val_accuracy: 0.8738\n",
      "Epoch 3/20\n",
      "1719/1719 [==============================] - 24s 14ms/step - loss: 0.2758 - accuracy: 0.8989 - val_loss: 0.3054 - val_accuracy: 0.8914\n",
      "Epoch 4/20\n",
      "1719/1719 [==============================] - 24s 14ms/step - loss: 0.2527 - accuracy: 0.9079 - val_loss: 0.2683 - val_accuracy: 0.9014\n",
      "Epoch 5/20\n",
      "1719/1719 [==============================] - 24s 14ms/step - loss: 0.2314 - accuracy: 0.9147 - val_loss: 0.2783 - val_accuracy: 0.9038\n",
      "Epoch 6/20\n",
      "1719/1719 [==============================] - 28s 16ms/step - loss: 0.2197 - accuracy: 0.9184 - val_loss: 0.2613 - val_accuracy: 0.9070\n",
      "Epoch 7/20\n",
      "1719/1719 [==============================] - 27s 16ms/step - loss: 0.1999 - accuracy: 0.9262 - val_loss: 0.2689 - val_accuracy: 0.9114\n",
      "Epoch 8/20\n",
      "1719/1719 [==============================] - 30s 17ms/step - loss: 0.1919 - accuracy: 0.9290 - val_loss: 0.2676 - val_accuracy: 0.9140\n",
      "Epoch 9/20\n",
      "1719/1719 [==============================] - 28s 16ms/step - loss: 0.1808 - accuracy: 0.9338 - val_loss: 0.2822 - val_accuracy: 0.8990\n",
      "Epoch 10/20\n",
      "1719/1719 [==============================] - 26s 15ms/step - loss: 0.1711 - accuracy: 0.9359 - val_loss: 0.2636 - val_accuracy: 0.9090\n",
      "Epoch 11/20\n",
      "1719/1719 [==============================] - 26s 15ms/step - loss: 0.1598 - accuracy: 0.9402 - val_loss: 0.2761 - val_accuracy: 0.9120\n",
      "Epoch 12/20\n",
      "1719/1719 [==============================] - 26s 15ms/step - loss: 0.1524 - accuracy: 0.9444 - val_loss: 0.2722 - val_accuracy: 0.9064\n",
      "Epoch 13/20\n",
      "1719/1719 [==============================] - 26s 15ms/step - loss: 0.1471 - accuracy: 0.9452 - val_loss: 0.2786 - val_accuracy: 0.9130\n",
      "Epoch 14/20\n",
      "1719/1719 [==============================] - 25s 15ms/step - loss: 0.1362 - accuracy: 0.9496 - val_loss: 0.2945 - val_accuracy: 0.9128\n",
      "Epoch 15/20\n",
      "1719/1719 [==============================] - 27s 16ms/step - loss: 0.1314 - accuracy: 0.9514 - val_loss: 0.3339 - val_accuracy: 0.9070\n",
      "Epoch 16/20\n",
      "1719/1719 [==============================] - 26s 15ms/step - loss: 0.1215 - accuracy: 0.9543 - val_loss: 0.3197 - val_accuracy: 0.9084\n",
      "Epoch 17/20\n",
      "1719/1719 [==============================] - 26s 15ms/step - loss: 0.1181 - accuracy: 0.9562 - val_loss: 0.3304 - val_accuracy: 0.9072\n",
      "Epoch 18/20\n",
      "1719/1719 [==============================] - 26s 15ms/step - loss: 0.1141 - accuracy: 0.9577 - val_loss: 0.3297 - val_accuracy: 0.9118\n",
      "Epoch 19/20\n",
      "1719/1719 [==============================] - 27s 16ms/step - loss: 0.1050 - accuracy: 0.9611 - val_loss: 0.3563 - val_accuracy: 0.9084\n",
      "Epoch 20/20\n",
      "1719/1719 [==============================] - 26s 15ms/step - loss: 0.1005 - accuracy: 0.9631 - val_loss: 0.3653 - val_accuracy: 0.9070\n"
     ]
    }
   ],
   "source": [
    "conv_encoder_clone.trainable = True\n",
    "hybrid_model.compile(loss=\"sparse_categorical_crossentropy\",\n",
    "                       optimizer=keras.optimizers.Adam(),\n",
    "                       metrics=[\"accuracy\"])\n",
    "history4 = hybrid_model.fit(X_train, y_train, epochs=20,\n",
    "                             validation_data=(X_valid, y_valid))"
   ]
  },
  {
   "cell_type": "markdown",
   "metadata": {},
   "source": [
    "# Variational Autoencoder"
   ]
  },
  {
   "cell_type": "code",
   "execution_count": 2,
   "metadata": {},
   "outputs": [],
   "source": [
    "import tensorflow as tf\n",
    "from tensorflow import keras\n",
    "import numpy as np\n",
    "import tensorflow.keras.backend as K"
   ]
  },
  {
   "cell_type": "code",
   "execution_count": 3,
   "metadata": {},
   "outputs": [],
   "source": [
    "class Sampling(keras.layers.Layer):\n",
    "    def call(self, inputs):\n",
    "        mean, log_var = inputs\n",
    "        return K.random_normal(tf.shape(log_var)) * K.exp(log_var/2) + mean"
   ]
  },
  {
   "cell_type": "code",
   "execution_count": 9,
   "metadata": {},
   "outputs": [
    {
     "name": "stdout",
     "output_type": "stream",
     "text": [
      "Epoch 1/25\n",
      "430/430 [==============================] - 4s 10ms/step - loss: 0.3922 - rounded_accuracy: 0.8583 - val_loss: 0.3536 - val_rounded_accuracy: 0.8959\n",
      "Epoch 2/25\n",
      "430/430 [==============================] - 4s 10ms/step - loss: 0.3453 - rounded_accuracy: 0.8958 - val_loss: 0.3442 - val_rounded_accuracy: 0.9007\n",
      "Epoch 3/25\n",
      "430/430 [==============================] - 5s 12ms/step - loss: 0.3346 - rounded_accuracy: 0.9039 - val_loss: 0.3406 - val_rounded_accuracy: 0.8933\n",
      "Epoch 4/25\n",
      "430/430 [==============================] - 5s 11ms/step - loss: 0.3292 - rounded_accuracy: 0.9080 - val_loss: 0.3301 - val_rounded_accuracy: 0.9106\n",
      "Epoch 5/25\n",
      "430/430 [==============================] - 4s 10ms/step - loss: 0.3257 - rounded_accuracy: 0.9109 - val_loss: 0.3296 - val_rounded_accuracy: 0.9120\n",
      "Epoch 6/25\n",
      "430/430 [==============================] - 4s 10ms/step - loss: 0.3233 - rounded_accuracy: 0.9126 - val_loss: 0.3286 - val_rounded_accuracy: 0.9117\n",
      "Epoch 7/25\n",
      "430/430 [==============================] - 4s 10ms/step - loss: 0.3216 - rounded_accuracy: 0.9143 - val_loss: 0.3220 - val_rounded_accuracy: 0.9138\n",
      "Epoch 8/25\n",
      "430/430 [==============================] - 4s 10ms/step - loss: 0.3201 - rounded_accuracy: 0.9152 - val_loss: 0.3227 - val_rounded_accuracy: 0.9144\n",
      "Epoch 9/25\n",
      "430/430 [==============================] - 4s 10ms/step - loss: 0.3190 - rounded_accuracy: 0.9163 - val_loss: 0.3210 - val_rounded_accuracy: 0.9135\n",
      "Epoch 10/25\n",
      "430/430 [==============================] - 4s 10ms/step - loss: 0.3180 - rounded_accuracy: 0.9169 - val_loss: 0.3194 - val_rounded_accuracy: 0.9182\n",
      "Epoch 11/25\n",
      "430/430 [==============================] - 4s 10ms/step - loss: 0.3172 - rounded_accuracy: 0.9178 - val_loss: 0.3203 - val_rounded_accuracy: 0.9166\n",
      "Epoch 12/25\n",
      "430/430 [==============================] - 4s 10ms/step - loss: 0.3166 - rounded_accuracy: 0.9181 - val_loss: 0.3169 - val_rounded_accuracy: 0.9209\n",
      "Epoch 13/25\n",
      "430/430 [==============================] - 4s 10ms/step - loss: 0.3159 - rounded_accuracy: 0.9186 - val_loss: 0.3185 - val_rounded_accuracy: 0.9193\n",
      "Epoch 14/25\n",
      "430/430 [==============================] - 5s 11ms/step - loss: 0.3155 - rounded_accuracy: 0.9192 - val_loss: 0.3182 - val_rounded_accuracy: 0.9183\n",
      "Epoch 15/25\n",
      "430/430 [==============================] - 5s 11ms/step - loss: 0.3150 - rounded_accuracy: 0.9194 - val_loss: 0.3168 - val_rounded_accuracy: 0.9210\n",
      "Epoch 16/25\n",
      "430/430 [==============================] - 5s 11ms/step - loss: 0.3146 - rounded_accuracy: 0.9197 - val_loss: 0.3183 - val_rounded_accuracy: 0.9190\n",
      "Epoch 17/25\n",
      "430/430 [==============================] - 5s 11ms/step - loss: 0.3142 - rounded_accuracy: 0.9201 - val_loss: 0.3163 - val_rounded_accuracy: 0.9186\n",
      "Epoch 18/25\n",
      "430/430 [==============================] - 5s 11ms/step - loss: 0.3139 - rounded_accuracy: 0.9203 - val_loss: 0.3152 - val_rounded_accuracy: 0.9211\n",
      "Epoch 19/25\n",
      "430/430 [==============================] - 5s 11ms/step - loss: 0.3136 - rounded_accuracy: 0.9205 - val_loss: 0.3147 - val_rounded_accuracy: 0.9217\n",
      "Epoch 20/25\n",
      "430/430 [==============================] - 4s 10ms/step - loss: 0.3133 - rounded_accuracy: 0.9208 - val_loss: 0.3160 - val_rounded_accuracy: 0.9166\n",
      "Epoch 21/25\n",
      "430/430 [==============================] - 5s 11ms/step - loss: 0.3131 - rounded_accuracy: 0.9208 - val_loss: 0.3164 - val_rounded_accuracy: 0.9192\n",
      "Epoch 22/25\n",
      "430/430 [==============================] - 5s 12ms/step - loss: 0.3128 - rounded_accuracy: 0.9210 - val_loss: 0.3152 - val_rounded_accuracy: 0.9202\n",
      "Epoch 23/25\n",
      "430/430 [==============================] - 5s 11ms/step - loss: 0.3126 - rounded_accuracy: 0.9212 - val_loss: 0.3146 - val_rounded_accuracy: 0.9231\n",
      "Epoch 24/25\n",
      "430/430 [==============================] - 5s 11ms/step - loss: 0.3123 - rounded_accuracy: 0.9215 - val_loss: 0.3148 - val_rounded_accuracy: 0.9225\n",
      "Epoch 25/25\n",
      "430/430 [==============================] - 5s 11ms/step - loss: 0.3121 - rounded_accuracy: 0.9216 - val_loss: 0.3150 - val_rounded_accuracy: 0.9196\n"
     ]
    }
   ],
   "source": [
    "tf.random.set_seed(42)\n",
    "np.random.seed(42)\n",
    "\n",
    "codings_size = 10\n",
    "\n",
    "inputs = keras.layers.Input(shape=(28,28))\n",
    "z = keras.layers.Flatten()(inputs)\n",
    "z = keras.layers.Dense(units=150, activation='selu')(z)\n",
    "z = keras.layers.Dense(units=150, activation='selu')(z)\n",
    "codings_mean = keras.layers.Dense(units=codings_size)(z)\n",
    "codings_log_var = keras.layers.Dense(units=codings_size)(z)\n",
    "codings = Sampling()([codings_mean, codings_log_var]) # Sampling operation performed in these two input values\n",
    "variational_encoder = keras.models.Model(inputs=[inputs], outputs=[codings_mean, codings_log_var, codings])\n",
    "\n",
    "decoder_inputs = keras.layers.Input(shape=([codings_size]))\n",
    "x = keras.layers.Dense(units=100, activation='selu')(decoder_inputs)\n",
    "x = keras.layers.Dense(150, activation='selu')(x)\n",
    "x = keras.layers.Dense(28*28, activation='sigmoid')(x)\n",
    "outputs = keras.layers.Reshape((28,28))(x)\n",
    "\n",
    "variational_decoder = keras.models.Model(inputs=[decoder_inputs], outputs=[outputs])\n",
    "\n",
    "_, _, codings = variational_encoder(inputs)\n",
    "reconstructions = variational_decoder(codings)\n",
    "variational_ae = keras.models.Model(inputs=[inputs], outputs=[reconstructions])\n",
    "\n",
    "latent_loss = -.5 * K.sum(1 + codings_log_var - K.exp(codings_log_var) - K.square(codings_mean), axis=-1)\n",
    "variational_ae.add_loss(K.mean(latent_loss)/784.)\n",
    "variational_ae.compile(loss='binary_crossentropy', optimizer='rmsprop', metrics=[rounded_accuracy])\n",
    "history = variational_ae.fit(X_train, X_train, epochs=25, batch_size=128, validation_data=(X_valid, X_valid))\n"
   ]
  },
  {
   "cell_type": "code",
   "execution_count": 10,
   "metadata": {},
   "outputs": [
    {
     "data": {
      "image/png": "[encoded data removed]",
      "text/plain": [
       "<Figure size 432x288 with 1 Axes>"
      ]
     },
     "metadata": {
      "needs_background": "light"
     },
     "output_type": "display_data"
    }
   ],
   "source": [
    "import pandas as pd\n",
    "pd.DataFrame(history.history).plot()\n",
    "plt.show()"
   ]
  },
  {
   "cell_type": "code",
   "execution_count": 12,
   "metadata": {},
   "outputs": [
    {
     "data": {
      "image/png": "[encoded data removed]",
      "text/plain": [
       "<Figure size 540x216 with 10 Axes>"
      ]
     },
     "metadata": {
      "needs_background": "light"
     },
     "output_type": "display_data"
    }
   ],
   "source": [
    "show_reconstructions(variational_ae)"
   ]
  },
  {
   "cell_type": "code",
   "execution_count": 13,
   "metadata": {},
   "outputs": [],
   "source": [
    "def plot_multiple_images(images, n_cols=None):\n",
    "    n_cols = n_cols or len(images)\n",
    "    n_rows = (len(images) - 1) // n_cols + 1\n",
    "    if images.shape[-1] == 1:\n",
    "        images = np.squeeze(images, axis=-1)\n",
    "    plt.figure(figsize=(n_cols, n_rows))\n",
    "    for index, image in enumerate(images):\n",
    "        plt.subplot(n_rows, n_cols, index + 1)\n",
    "        plt.imshow(image, cmap=\"binary\")\n",
    "        plt.axis(\"off\")"
   ]
  },
  {
   "cell_type": "code",
   "execution_count": 14,
   "metadata": {},
   "outputs": [
    {
     "data": {
      "image/png": "[encoded data removed]",
      "text/plain": [
       "<Figure size 288x216 with 12 Axes>"
      ]
     },
     "metadata": {
      "needs_background": "light"
     },
     "output_type": "display_data"
    }
   ],
   "source": [
    "tf.random.set_seed(42)\n",
    "\n",
    "codings = tf.random.normal(shape=[12, codings_size])\n",
    "images = variational_decoder(codings).numpy()\n",
    "plot_multiple_images(images, 4)"
   ]
  },
  {
   "cell_type": "code",
   "execution_count": null,
   "metadata": {},
   "outputs": [],
   "source": []
  }
 ],
 "metadata": {
  "kernelspec": {
   "display_name": "Python 3",
   "language": "python",
   "name": "python3"
  },
  "language_info": {
   "codemirror_mode": {
    "name": "ipython",
    "version": 3
   },
   "file_extension": ".py",
   "mimetype": "text/x-python",
   "name": "python",
   "nbconvert_exporter": "python",
   "pygments_lexer": "ipython3",
   "version": "3.7.4"
  }
 },
 "nbformat": 4,
 "nbformat_minor": 2
}
