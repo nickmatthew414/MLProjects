{
 "cells": [
  {
   "cell_type": "code",
   "execution_count": 1,
   "metadata": {},
   "outputs": [],
   "source": [
    "import tensorflow as tf\n",
    "from tensorflow import keras\n",
    "from tensorflow.keras.datasets.cifar10 import load_data\n",
    "import numpy as np\n",
    "import matplotlib.pyplot as plt"
   ]
  },
  {
   "cell_type": "code",
   "execution_count": 2,
   "metadata": {},
   "outputs": [],
   "source": [
    "cifar = load_data()"
   ]
  },
  {
   "cell_type": "code",
   "execution_count": 3,
   "metadata": {},
   "outputs": [],
   "source": [
    "(X_train_full, y_train_full), (X_test, y_test) = cifar"
   ]
  },
  {
   "cell_type": "code",
   "execution_count": 4,
   "metadata": {},
   "outputs": [
    {
     "data": {
      "text/plain": [
       "(50000, 32, 32, 3)"
      ]
     },
     "execution_count": 4,
     "metadata": {},
     "output_type": "execute_result"
    }
   ],
   "source": [
    "X_train_full.shape"
   ]
  },
  {
   "cell_type": "code",
   "execution_count": 5,
   "metadata": {},
   "outputs": [],
   "source": [
    "X_train, y_train = X_train_full[:45000], y_train_full[:45000]\n",
    "X_val, y_val = X_train_full[45000:], y_train_full[45000:]"
   ]
  },
  {
   "cell_type": "code",
   "execution_count": 6,
   "metadata": {},
   "outputs": [],
   "source": [
    "from tensorflow.keras.models import Sequential\n",
    "from functools import partial"
   ]
  },
  {
   "cell_type": "code",
   "execution_count": null,
   "metadata": {},
   "outputs": [],
   "source": [
    "initializer = tf.keras.initializers.he_normal()\n",
    "dense = partial(keras.layers.Dense,units=100, activation='elu', kernel_initializer=initializer)"
   ]
  },
  {
   "cell_type": "code",
   "execution_count": null,
   "metadata": {},
   "outputs": [],
   "source": [
    "model = Sequential()\n",
    "model.add(keras.layers.Flatten(input_shape=[32, 32, 3]))    \n",
    "for layer in range(20):\n",
    "    model.add(dense())\n",
    "model.add(keras.layers.Dense(units=10, activation='softmax', kernel_initializer=initializer))"
   ]
  },
  {
   "cell_type": "code",
   "execution_count": null,
   "metadata": {},
   "outputs": [],
   "source": []
  },
  {
   "cell_type": "code",
   "execution_count": null,
   "metadata": {},
   "outputs": [],
   "source": [
    "model.summary()"
   ]
  },
  {
   "cell_type": "code",
   "execution_count": null,
   "metadata": {},
   "outputs": [],
   "source": [
    "stopping = keras.callbacks.EarlyStopping(patience=5, monitor='val_loss')"
   ]
  },
  {
   "cell_type": "code",
   "execution_count": null,
   "metadata": {},
   "outputs": [],
   "source": [
    "model.compile(loss='sparse_categorical_crossentropy', optimizer='nadam', metrics=['accuracy'])"
   ]
  },
  {
   "cell_type": "code",
   "execution_count": null,
   "metadata": {},
   "outputs": [],
   "source": [
    "history = model.fit(X_train, y_train, epochs=100, validation_data=(X_val, y_val), callbacks=[stopping])"
   ]
  },
  {
   "cell_type": "code",
   "execution_count": 19,
   "metadata": {},
   "outputs": [],
   "source": [
    "%matplotlib inline\n",
    "\n",
    "def plot_graph(history, metric):\n",
    "    plt.plot(history.history[metric])\n",
    "    plt.xlabel('epochs')\n",
    "    plt.ylabel(metric)\n",
    "    plt.xticks(range(0,20,2))\n",
    "    plt.yticks([.2,.25,.3,.35,.4])\n",
    "    plt.show()\n",
    "    \n",
    "#plot_graph(history, 'accuracy')"
   ]
  },
  {
   "cell_type": "code",
   "execution_count": null,
   "metadata": {},
   "outputs": [],
   "source": [
    "model.evaluate(X_test, y_test)"
   ]
  },
  {
   "cell_type": "code",
   "execution_count": null,
   "metadata": {},
   "outputs": [],
   "source": [
    "K = keras.backend\n",
    "K.clear_session()"
   ]
  },
  {
   "cell_type": "code",
   "execution_count": null,
   "metadata": {},
   "outputs": [],
   "source": [
    "model2 = Sequential(keras.layers.Flatten(input_shape=(32,32,3)))"
   ]
  },
  {
   "cell_type": "code",
   "execution_count": null,
   "metadata": {},
   "outputs": [],
   "source": [
    "for layer in range(20):\n",
    "    model2.add(dense())\n",
    "    model2.add(keras.layers.BatchNormalization())\n",
    "model2.add(keras.layers.Dense(units=10, activation=tf.nn.softmax))"
   ]
  },
  {
   "cell_type": "code",
   "execution_count": null,
   "metadata": {},
   "outputs": [],
   "source": [
    "model2.summary()"
   ]
  },
  {
   "cell_type": "code",
   "execution_count": null,
   "metadata": {},
   "outputs": [],
   "source": [
    "model2.compile(loss='sparse_categorical_crossentropy', optimizer='nadam', metrics=['accuracy'])\n",
    "history = model2.fit(X_train, y_train, epochs=100, validation_data=(X_val, y_val), callbacks=[stopping])"
   ]
  },
  {
   "cell_type": "code",
   "execution_count": null,
   "metadata": {},
   "outputs": [],
   "source": [
    "plot_graph(history, 'accuracy')"
   ]
  },
  {
   "cell_type": "code",
   "execution_count": 7,
   "metadata": {},
   "outputs": [],
   "source": [
    "model3 = Sequential()"
   ]
  },
  {
   "cell_type": "code",
   "execution_count": 8,
   "metadata": {},
   "outputs": [],
   "source": [
    "from functools import partial\n",
    "selu_dense = partial(keras.layers.Dense, units=100, activation='selu', kernel_initializer='lecun_normal')"
   ]
  },
  {
   "cell_type": "code",
   "execution_count": 9,
   "metadata": {},
   "outputs": [],
   "source": [
    "model3.add(keras.layers.Flatten(input_shape=(32,32,3)))\n",
    "for layer in range(20):\n",
    "    model3.add(selu_dense())\n",
    "model3.add(keras.layers.Dense(units=100, activation=tf.nn.softmax))"
   ]
  },
  {
   "cell_type": "code",
   "execution_count": 10,
   "metadata": {},
   "outputs": [
    {
     "name": "stdout",
     "output_type": "stream",
     "text": [
      "Model: \"sequential\"\n",
      "_________________________________________________________________\n",
      "Layer (type)                 Output Shape              Param #   \n",
      "=================================================================\n",
      "flatten (Flatten)            (None, 3072)              0         \n",
      "_________________________________________________________________\n",
      "dense (Dense)                (None, 100)               307300    \n",
      "_________________________________________________________________\n",
      "dense_1 (Dense)              (None, 100)               10100     \n",
      "_________________________________________________________________\n",
      "dense_2 (Dense)              (None, 100)               10100     \n",
      "_________________________________________________________________\n",
      "dense_3 (Dense)              (None, 100)               10100     \n",
      "_________________________________________________________________\n",
      "dense_4 (Dense)              (None, 100)               10100     \n",
      "_________________________________________________________________\n",
      "dense_5 (Dense)              (None, 100)               10100     \n",
      "_________________________________________________________________\n",
      "dense_6 (Dense)              (None, 100)               10100     \n",
      "_________________________________________________________________\n",
      "dense_7 (Dense)              (None, 100)               10100     \n",
      "_________________________________________________________________\n",
      "dense_8 (Dense)              (None, 100)               10100     \n",
      "_________________________________________________________________\n",
      "dense_9 (Dense)              (None, 100)               10100     \n",
      "_________________________________________________________________\n",
      "dense_10 (Dense)             (None, 100)               10100     \n",
      "_________________________________________________________________\n",
      "dense_11 (Dense)             (None, 100)               10100     \n",
      "_________________________________________________________________\n",
      "dense_12 (Dense)             (None, 100)               10100     \n",
      "_________________________________________________________________\n",
      "dense_13 (Dense)             (None, 100)               10100     \n",
      "_________________________________________________________________\n",
      "dense_14 (Dense)             (None, 100)               10100     \n",
      "_________________________________________________________________\n",
      "dense_15 (Dense)             (None, 100)               10100     \n",
      "_________________________________________________________________\n",
      "dense_16 (Dense)             (None, 100)               10100     \n",
      "_________________________________________________________________\n",
      "dense_17 (Dense)             (None, 100)               10100     \n",
      "_________________________________________________________________\n",
      "dense_18 (Dense)             (None, 100)               10100     \n",
      "_________________________________________________________________\n",
      "dense_19 (Dense)             (None, 100)               10100     \n",
      "_________________________________________________________________\n",
      "dense_20 (Dense)             (None, 100)               10100     \n",
      "=================================================================\n",
      "Total params: 509,300\n",
      "Trainable params: 509,300\n",
      "Non-trainable params: 0\n",
      "_________________________________________________________________\n"
     ]
    }
   ],
   "source": [
    "model3.summary()"
   ]
  },
  {
   "cell_type": "code",
   "execution_count": 12,
   "metadata": {},
   "outputs": [],
   "source": [
    "model3.compile(loss='sparse_categorical_crossentropy', optimizer='nadam', metrics=['accuracy'])"
   ]
  },
  {
   "cell_type": "code",
   "execution_count": 14,
   "metadata": {},
   "outputs": [],
   "source": [
    "X_means = X_train.mean(axis=0)\n",
    "X_stds = X_train.std(axis=0)\n",
    "X_train_scaled = (X_train - X_means) / X_stds\n",
    "X_val_scaled = (X_val - X_means) / X_stds\n",
    "X_test_scaled = (X_test - X_means) / X_stds"
   ]
  },
  {
   "cell_type": "code",
   "execution_count": 17,
   "metadata": {},
   "outputs": [],
   "source": [
    "import os\n",
    "stopping = keras.callbacks.EarlyStopping(patience=5, monitor='val_loss')\n",
    "run_index = 1\n",
    "run_logdir = os.path.join(os.curdir, \"my_cifar10_logs\", \"run_selu_{:03d}\".format(run_index))\n",
    "tensorboard_cb = keras.callbacks.TensorBoard(run_logdir)\n",
    "model_checkpoint_cb = keras.callbacks.ModelCheckpoint(\"my_cifar10_selu_model.h5\", save_best_only=True)"
   ]
  },
  {
   "cell_type": "code",
   "execution_count": 18,
   "metadata": {},
   "outputs": [
    {
     "name": "stdout",
     "output_type": "stream",
     "text": [
      "Train on 45000 samples, validate on 5000 samples\n",
      "Epoch 1/100\n",
      "45000/45000 [==============================] - 27s 608us/sample - loss: 1.9378 - accuracy: 0.2996 - val_loss: 1.9835 - val_accuracy: 0.3218\n",
      "Epoch 2/100\n",
      "45000/45000 [==============================] - 24s 536us/sample - loss: 1.7432 - accuracy: 0.3728 - val_loss: 1.7162 - val_accuracy: 0.3858\n",
      "Epoch 3/100\n",
      "45000/45000 [==============================] - 20s 439us/sample - loss: 1.6554 - accuracy: 0.4091 - val_loss: 1.6261 - val_accuracy: 0.4152\n",
      "Epoch 4/100\n",
      "45000/45000 [==============================] - 19s 411us/sample - loss: 1.6004 - accuracy: 0.4343 - val_loss: 1.6128 - val_accuracy: 0.4438\n",
      "Epoch 5/100\n",
      "45000/45000 [==============================] - 20s 436us/sample - loss: 1.5525 - accuracy: 0.4493 - val_loss: 1.6260 - val_accuracy: 0.4296\n",
      "Epoch 6/100\n",
      "45000/45000 [==============================] - 19s 425us/sample - loss: 1.5072 - accuracy: 0.4689 - val_loss: 1.5478 - val_accuracy: 0.4602\n",
      "Epoch 7/100\n",
      "45000/45000 [==============================] - 19s 423us/sample - loss: 1.4678 - accuracy: 0.4797 - val_loss: 1.5413 - val_accuracy: 0.4674\n",
      "Epoch 8/100\n",
      "45000/45000 [==============================] - 19s 419us/sample - loss: 1.4338 - accuracy: 0.4954 - val_loss: 1.5254 - val_accuracy: 0.4576\n",
      "Epoch 9/100\n",
      "45000/45000 [==============================] - 19s 432us/sample - loss: 1.4065 - accuracy: 0.5066 - val_loss: 1.5468 - val_accuracy: 0.4680\n",
      "Epoch 10/100\n",
      "45000/45000 [==============================] - 25s 554us/sample - loss: 1.3731 - accuracy: 0.5178 - val_loss: 1.5032 - val_accuracy: 0.4790\n",
      "Epoch 11/100\n",
      "45000/45000 [==============================] - 23s 518us/sample - loss: 1.3538 - accuracy: 0.5236 - val_loss: 1.5029 - val_accuracy: 0.4812\n",
      "Epoch 12/100\n",
      "45000/45000 [==============================] - 19s 418us/sample - loss: 1.3181 - accuracy: 0.5407 - val_loss: 1.5660 - val_accuracy: 0.4684\n",
      "Epoch 13/100\n",
      "45000/45000 [==============================] - 21s 458us/sample - loss: 1.2922 - accuracy: 0.5470 - val_loss: 1.4731 - val_accuracy: 0.4974\n",
      "Epoch 14/100\n",
      "45000/45000 [==============================] - 19s 419us/sample - loss: 1.2726 - accuracy: 0.5564 - val_loss: 1.4952 - val_accuracy: 0.4944\n",
      "Epoch 15/100\n",
      "45000/45000 [==============================] - 18s 404us/sample - loss: 1.2458 - accuracy: 0.5666 - val_loss: 1.5002 - val_accuracy: 0.4964\n",
      "Epoch 16/100\n",
      "45000/45000 [==============================] - 19s 420us/sample - loss: 1.4026 - accuracy: 0.5676 - val_loss: 1.5381 - val_accuracy: 0.4930\n",
      "Epoch 17/100\n",
      "45000/45000 [==============================] - 19s 425us/sample - loss: 1.2678 - accuracy: 0.5473 - val_loss: 1.4810 - val_accuracy: 0.4974\n",
      "Epoch 18/100\n",
      "45000/45000 [==============================] - 18s 404us/sample - loss: 42.8395 - accuracy: 0.5787 - val_loss: 1.6351 - val_accuracy: 0.4476\n"
     ]
    }
   ],
   "source": [
    "history3 = model3.fit(X_train_scaled, y_train, epochs=100, validation_data=(X_val_scaled, y_val),\n",
    "                     callbacks=[stopping, tensorboard_cb, model_checkpoint_cb])"
   ]
  },
  {
   "cell_type": "code",
   "execution_count": 20,
   "metadata": {},
   "outputs": [
    {
     "data": {
      "image/png": "[encoded data removed]",
      "text/plain": [
       "<Figure size 432x288 with 1 Axes>"
      ]
     },
     "metadata": {
      "needs_background": "light"
     },
     "output_type": "display_data"
    }
   ],
   "source": [
    "plot_graph(history3, 'accuracy')"
   ]
  },
  {
   "cell_type": "markdown",
   "metadata": {},
   "source": [
    "Selu with AlphaDropout"
   ]
  },
  {
   "cell_type": "code",
   "execution_count": 21,
   "metadata": {},
   "outputs": [],
   "source": [
    "model4 = Sequential()"
   ]
  },
  {
   "cell_type": "code",
   "execution_count": 22,
   "metadata": {},
   "outputs": [],
   "source": [
    "model4.add(keras.layers.Flatten(input_shape=(32,32,3)))\n",
    "for layer in range(20):\n",
    "    model4.add(selu_dense())\n",
    "    model4.add(keras.layers.AlphaDropout(.1))\n",
    "model4.add(keras.layers.Dense(units=10, activation=tf.nn.softmax))"
   ]
  },
  {
   "cell_type": "code",
   "execution_count": 23,
   "metadata": {},
   "outputs": [
    {
     "name": "stdout",
     "output_type": "stream",
     "text": [
      "Model: \"sequential_1\"\n",
      "_________________________________________________________________\n",
      "Layer (type)                 Output Shape              Param #   \n",
      "=================================================================\n",
      "flatten_1 (Flatten)          (None, 3072)              0         \n",
      "_________________________________________________________________\n",
      "dense_21 (Dense)             (None, 100)               307300    \n",
      "_________________________________________________________________\n",
      "alpha_dropout (AlphaDropout) (None, 100)               0         \n",
      "_________________________________________________________________\n",
      "dense_22 (Dense)             (None, 100)               10100     \n",
      "_________________________________________________________________\n",
      "alpha_dropout_1 (AlphaDropou (None, 100)               0         \n",
      "_________________________________________________________________\n",
      "dense_23 (Dense)             (None, 100)               10100     \n",
      "_________________________________________________________________\n",
      "alpha_dropout_2 (AlphaDropou (None, 100)               0         \n",
      "_________________________________________________________________\n",
      "dense_24 (Dense)             (None, 100)               10100     \n",
      "_________________________________________________________________\n",
      "alpha_dropout_3 (AlphaDropou (None, 100)               0         \n",
      "_________________________________________________________________\n",
      "dense_25 (Dense)             (None, 100)               10100     \n",
      "_________________________________________________________________\n",
      "alpha_dropout_4 (AlphaDropou (None, 100)               0         \n",
      "_________________________________________________________________\n",
      "dense_26 (Dense)             (None, 100)               10100     \n",
      "_________________________________________________________________\n",
      "alpha_dropout_5 (AlphaDropou (None, 100)               0         \n",
      "_________________________________________________________________\n",
      "dense_27 (Dense)             (None, 100)               10100     \n",
      "_________________________________________________________________\n",
      "alpha_dropout_6 (AlphaDropou (None, 100)               0         \n",
      "_________________________________________________________________\n",
      "dense_28 (Dense)             (None, 100)               10100     \n",
      "_________________________________________________________________\n",
      "alpha_dropout_7 (AlphaDropou (None, 100)               0         \n",
      "_________________________________________________________________\n",
      "dense_29 (Dense)             (None, 100)               10100     \n",
      "_________________________________________________________________\n",
      "alpha_dropout_8 (AlphaDropou (None, 100)               0         \n",
      "_________________________________________________________________\n",
      "dense_30 (Dense)             (None, 100)               10100     \n",
      "_________________________________________________________________\n",
      "alpha_dropout_9 (AlphaDropou (None, 100)               0         \n",
      "_________________________________________________________________\n",
      "dense_31 (Dense)             (None, 100)               10100     \n",
      "_________________________________________________________________\n",
      "alpha_dropout_10 (AlphaDropo (None, 100)               0         \n",
      "_________________________________________________________________\n",
      "dense_32 (Dense)             (None, 100)               10100     \n",
      "_________________________________________________________________\n",
      "alpha_dropout_11 (AlphaDropo (None, 100)               0         \n",
      "_________________________________________________________________\n",
      "dense_33 (Dense)             (None, 100)               10100     \n",
      "_________________________________________________________________\n",
      "alpha_dropout_12 (AlphaDropo (None, 100)               0         \n",
      "_________________________________________________________________\n",
      "dense_34 (Dense)             (None, 100)               10100     \n",
      "_________________________________________________________________\n",
      "alpha_dropout_13 (AlphaDropo (None, 100)               0         \n",
      "_________________________________________________________________\n",
      "dense_35 (Dense)             (None, 100)               10100     \n",
      "_________________________________________________________________\n",
      "alpha_dropout_14 (AlphaDropo (None, 100)               0         \n",
      "_________________________________________________________________\n",
      "dense_36 (Dense)             (None, 100)               10100     \n",
      "_________________________________________________________________\n",
      "alpha_dropout_15 (AlphaDropo (None, 100)               0         \n",
      "_________________________________________________________________\n",
      "dense_37 (Dense)             (None, 100)               10100     \n",
      "_________________________________________________________________\n",
      "alpha_dropout_16 (AlphaDropo (None, 100)               0         \n",
      "_________________________________________________________________\n",
      "dense_38 (Dense)             (None, 100)               10100     \n",
      "_________________________________________________________________\n",
      "alpha_dropout_17 (AlphaDropo (None, 100)               0         \n",
      "_________________________________________________________________\n",
      "dense_39 (Dense)             (None, 100)               10100     \n",
      "_________________________________________________________________\n",
      "alpha_dropout_18 (AlphaDropo (None, 100)               0         \n",
      "_________________________________________________________________\n",
      "dense_40 (Dense)             (None, 100)               10100     \n",
      "_________________________________________________________________\n",
      "alpha_dropout_19 (AlphaDropo (None, 100)               0         \n",
      "_________________________________________________________________\n",
      "dense_41 (Dense)             (None, 10)                1010      \n",
      "=================================================================\n",
      "Total params: 500,210\n",
      "Trainable params: 500,210\n",
      "Non-trainable params: 0\n",
      "_________________________________________________________________\n"
     ]
    }
   ],
   "source": [
    "model4.summary()"
   ]
  },
  {
   "cell_type": "code",
   "execution_count": 24,
   "metadata": {},
   "outputs": [],
   "source": [
    "model4.compile(loss='sparse_categorical_crossentropy', optimizer='nadam', metrics=['accuracy'])"
   ]
  },
  {
   "cell_type": "code",
   "execution_count": 25,
   "metadata": {},
   "outputs": [
    {
     "name": "stdout",
     "output_type": "stream",
     "text": [
      "Train on 45000 samples, validate on 5000 samples\n",
      "Epoch 1/100\n",
      "45000/45000 [==============================] - 30s 662us/sample - loss: 2.1751 - accuracy: 0.1677 - val_loss: 5.2220 - val_accuracy: 0.2152\n",
      "Epoch 2/100\n",
      "45000/45000 [==============================] - 20s 441us/sample - loss: 2.0096 - accuracy: 0.2033 - val_loss: 3.8083 - val_accuracy: 0.1898\n",
      "Epoch 3/100\n",
      "45000/45000 [==============================] - 19s 414us/sample - loss: 1.9970 - accuracy: 0.2325 - val_loss: 5.8959 - val_accuracy: 0.2026\n",
      "Epoch 4/100\n",
      "45000/45000 [==============================] - 20s 448us/sample - loss: 2.0018 - accuracy: 0.2280 - val_loss: 5.6451 - val_accuracy: 0.1944\n",
      "Epoch 5/100\n",
      "45000/45000 [==============================] - 21s 461us/sample - loss: 2.0291 - accuracy: 0.2232 - val_loss: 4.3318 - val_accuracy: 0.2004\n",
      "Epoch 6/100\n",
      "45000/45000 [==============================] - 19s 424us/sample - loss: 1.9619 - accuracy: 0.2388 - val_loss: 3.4996 - val_accuracy: 0.2054\n",
      "Epoch 7/100\n",
      "45000/45000 [==============================] - 19s 431us/sample - loss: 1.9605 - accuracy: 0.2420 - val_loss: 6.4221 - val_accuracy: 0.2406\n",
      "Epoch 8/100\n",
      "45000/45000 [==============================] - 20s 441us/sample - loss: 1.9633 - accuracy: 0.2494 - val_loss: 4.6426 - val_accuracy: 0.2306\n",
      "Epoch 9/100\n",
      "45000/45000 [==============================] - 19s 426us/sample - loss: 1.9904 - accuracy: 0.2389 - val_loss: 4.4597 - val_accuracy: 0.2200\n",
      "Epoch 10/100\n",
      "45000/45000 [==============================] - 19s 427us/sample - loss: 1.9485 - accuracy: 0.2401 - val_loss: 5.3184 - val_accuracy: 0.2266\n",
      "Epoch 11/100\n",
      "45000/45000 [==============================] - 19s 431us/sample - loss: 1.9619 - accuracy: 0.2395 - val_loss: 5.3354 - val_accuracy: 0.1814\n"
     ]
    }
   ],
   "source": [
    "history4 = model4.fit(X_train_scaled, y_train, epochs=100, validation_data=(X_val_scaled, y_val),\n",
    "                      callbacks=[stopping])"
   ]
  },
  {
   "cell_type": "code",
   "execution_count": null,
   "metadata": {},
   "outputs": [],
   "source": []
  }
 ],
 "metadata": {
  "kernelspec": {
   "display_name": "Python 3",
   "language": "python",
   "name": "python3"
  },
  "language_info": {
   "codemirror_mode": {
    "name": "ipython",
    "version": 3
   },
   "file_extension": ".py",
   "mimetype": "text/x-python",
   "name": "python",
   "nbconvert_exporter": "python",
   "pygments_lexer": "ipython3",
   "version": "3.7.4"
  }
 },
 "nbformat": 4,
 "nbformat_minor": 2
}
